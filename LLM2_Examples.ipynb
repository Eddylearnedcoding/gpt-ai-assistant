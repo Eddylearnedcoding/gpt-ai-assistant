{
  "nbformat": 4,
  "nbformat_minor": 0,
  "metadata": {
    "colab": {
      "provenance": [],
      "include_colab_link": true
    },
    "kernelspec": {
      "name": "python3",
      "display_name": "Python 3"
    },
    "language_info": {
      "name": "python"
    }
  },
  "cells": [
    {
      "cell_type": "markdown",
      "metadata": {
        "id": "view-in-github",
        "colab_type": "text"
      },
      "source": [
        "<a href=\"https://colab.research.google.com/github/Eddylearnedcoding/gpt-ai-assistant/blob/main/LLM2_Examples.ipynb\" target=\"_parent\"><img src=\"https://colab.research.google.com/assets/colab-badge.svg\" alt=\"Open In Colab\"/></a>"
      ]
    },
    {
      "cell_type": "markdown",
      "source": [
        "**環境設定**"
      ],
      "metadata": {
        "id": "2xnRBOqaP-3R"
      }
    },
    {
      "cell_type": "code",
      "execution_count": 12,
      "metadata": {
        "id": "Asv7_QS5PyyC",
        "outputId": "d90ec413-c2c9-447c-84af-cbd37f425bb1",
        "colab": {
          "base_uri": "https://localhost:8080/"
        }
      },
      "outputs": [
        {
          "output_type": "stream",
          "name": "stdout",
          "text": [
            "Requirement already satisfied: openai in /usr/local/lib/python3.10/dist-packages (1.6.1)\n",
            "Requirement already satisfied: anyio<5,>=3.5.0 in /usr/local/lib/python3.10/dist-packages (from openai) (3.7.1)\n",
            "Requirement already satisfied: distro<2,>=1.7.0 in /usr/lib/python3/dist-packages (from openai) (1.7.0)\n",
            "Requirement already satisfied: httpx<1,>=0.23.0 in /usr/local/lib/python3.10/dist-packages (from openai) (0.26.0)\n",
            "Requirement already satisfied: pydantic<3,>=1.9.0 in /usr/local/lib/python3.10/dist-packages (from openai) (1.10.13)\n",
            "Requirement already satisfied: sniffio in /usr/local/lib/python3.10/dist-packages (from openai) (1.3.0)\n",
            "Requirement already satisfied: tqdm>4 in /usr/local/lib/python3.10/dist-packages (from openai) (4.66.1)\n",
            "Requirement already satisfied: typing-extensions<5,>=4.7 in /usr/local/lib/python3.10/dist-packages (from openai) (4.9.0)\n",
            "Requirement already satisfied: idna>=2.8 in /usr/local/lib/python3.10/dist-packages (from anyio<5,>=3.5.0->openai) (3.6)\n",
            "Requirement already satisfied: exceptiongroup in /usr/local/lib/python3.10/dist-packages (from anyio<5,>=3.5.0->openai) (1.2.0)\n",
            "Requirement already satisfied: certifi in /usr/local/lib/python3.10/dist-packages (from httpx<1,>=0.23.0->openai) (2023.11.17)\n",
            "Requirement already satisfied: httpcore==1.* in /usr/local/lib/python3.10/dist-packages (from httpx<1,>=0.23.0->openai) (1.0.2)\n",
            "Requirement already satisfied: h11<0.15,>=0.13 in /usr/local/lib/python3.10/dist-packages (from httpcore==1.*->httpx<1,>=0.23.0->openai) (0.14.0)\n"
          ]
        }
      ],
      "source": [
        "!pip install openai\n",
        "# !pip install openai==0.28\n",
        "# !pip install python-dotenv\n",
        "\n",
        "import openai\n",
        "import os\n",
        "\n",
        "#from dotenv import load_dotenv, find_dotenv\n",
        "#_ = load_dotenv(find_dotenv())\n",
        "#openai.api_key  = os.getenv('OPENAI_API_KEY')\n",
        "\n",
        "from google.colab  import userdata\n",
        "openai.api_key = userdata.get('OPENAI_API_KEY')"
      ]
    },
    {
      "cell_type": "markdown",
      "source": [
        "**定義函式 get_completion**"
      ],
      "metadata": {
        "id": "Vy7fgjSAQE-0"
      }
    },
    {
      "cell_type": "code",
      "source": [
        "def get_completion(prompt, model=\"gpt-3.5-turbo\"):   # gpt-3.5-turbo-1106\n",
        "    messages = [{\"role\": \"user\", \"content\": prompt}]\n",
        "    response = openai.chat.completions.create(\n",
        "        model=model,\n",
        "        messages=messages,\n",
        "        temperature=0, # 模型輸出隨機的程度。\n",
        "    )\n",
        "    return response.choices[0].message.content"
      ],
      "metadata": {
        "id": "hKa6gJCnP7Xr"
      },
      "execution_count": 13,
      "outputs": []
    },
    {
      "cell_type": "code",
      "source": [
        "# def get_completion(prompt, model=\"gpt-3.5-turbo\"):\n",
        "#     messages = [{\"role\": \"user\", \"content\": prompt}]\n",
        "#     response = openai.ChatCompletion.create(\n",
        "#         model=model,\n",
        "#         messages=messages,\n",
        "#         temperature=0, # 模型輸出隨機的程度。\n",
        "#     )\n",
        "#     return response.choices[0].message[\"content\"]"
      ],
      "metadata": {
        "id": "RK1KS2DXhlEP"
      },
      "execution_count": null,
      "outputs": []
    },
    {
      "cell_type": "markdown",
      "source": [
        "秘訣1：善用斷行"
      ],
      "metadata": {
        "id": "QU1TGfxeQUkb"
      }
    },
    {
      "cell_type": "code",
      "source": [
        "text = f\"\"\"\n",
        "You should express what you want a model to do by \\\n",
        "providing instructions that are as clear and \\\n",
        "specific as you can possibly make them. \\\n",
        "This will guide the model towards the desired output, \\\n",
        "and reduce the chances of receiving irrelevant \\\n",
        "or incorrect responses. Don't confuse writing a \\\n",
        "clear prompt with writing a short prompt. \\\n",
        "In many cases, longer prompts provide more clarity \\\n",
        "and context for the model, which can lead to \\\n",
        "more detailed and relevant outputs.\n",
        "\"\"\"\n",
        "prompt = f\"\"\"\n",
        "Summarize the text delimited by triple backticks \\\n",
        "into a single sentence.\n",
        "```{text}```\n",
        "\"\"\"\n",
        "response = get_completion(prompt)\n",
        "print(response)"
      ],
      "metadata": {
        "id": "GC5ZhXTnQTFN",
        "colab": {
          "base_uri": "https://localhost:8080/"
        },
        "outputId": "3cfd9a3b-b658-48b0-84ed-3987b1740045"
      },
      "execution_count": 14,
      "outputs": [
        {
          "output_type": "stream",
          "name": "stdout",
          "text": [
            "To guide a model towards the desired output and minimize irrelevant or incorrect responses, it is important to provide clear and specific instructions, even if it means writing longer prompts that offer more clarity and context.\n"
          ]
        }
      ]
    },
    {
      "cell_type": "markdown",
      "source": [
        "**秘訣2：要求格式化輸出**"
      ],
      "metadata": {
        "id": "eTVeh3E3Qdfb"
      }
    },
    {
      "cell_type": "code",
      "source": [
        "prompt = f\"\"\"\n",
        "Generate a list of three made-up book titles along \\\n",
        "with their authors and genres.\n",
        "Provide them in JSON format with the following keys:\n",
        "book_id, title, author, genre.\n",
        "\"\"\"\n",
        "response = get_completion(prompt)\n",
        "print(response)"
      ],
      "metadata": {
        "id": "rx1aLxeYQdBZ",
        "colab": {
          "base_uri": "https://localhost:8080/"
        },
        "outputId": "d72a2069-871f-44db-9d2a-e0580c43c506"
      },
      "execution_count": null,
      "outputs": [
        {
          "output_type": "stream",
          "name": "stdout",
          "text": [
            "{\n",
            "  \"books\": [\n",
            "    {\n",
            "      \"book_id\": 1,\n",
            "      \"title\": \"The Midnight Garden\",\n",
            "      \"author\": \"Eleanor Black\",\n",
            "      \"genre\": \"Fantasy\"\n",
            "    },\n",
            "    {\n",
            "      \"book_id\": 2,\n",
            "      \"title\": \"The Forgotten Symphony\",\n",
            "      \"author\": \"Lucas Hart\",\n",
            "      \"genre\": \"Mystery\"\n",
            "    },\n",
            "    {\n",
            "      \"book_id\": 3,\n",
            "      \"title\": \"Echoes of Eternity\",\n",
            "      \"author\": \"Aria Nightingale\",\n",
            "      \"genre\": \"Romance\"\n",
            "    }\n",
            "  ]\n",
            "}\n"
          ]
        }
      ]
    },
    {
      "cell_type": "markdown",
      "source": [
        "**秘訣：要求AI思考並檢查結果**"
      ],
      "metadata": {
        "id": "vAE49AucQoDm"
      }
    },
    {
      "cell_type": "code",
      "source": [
        "text_1 = f\"\"\"\n",
        "首先，先將水煮沸，以滾水溫壺，再放入茶葉，\\\n",
        "並倒入能淹過茶葉的水量後，蓋上壺蓋等待約10秒，讓茶葉吸收到適量的水分，\\\n",
        "以利後續茶湯滋味的釋放，即可將茶湯倒掉。\\\n",
        "完成上述步驟後，才算是茶葉的第一泡。\\\n",
        "一樣將水煮沸，並將水倒滿茶壺，蓋上壺蓋等待約50秒，即可將茶湯倒入茶海，再依序分裝至茶杯中品嚐。\\\n",
        "而後續的第二泡、第三泡等步驟則都與第一泡相同，並可重複約四次，直至茶湯沒有滋味為止。\\\n",
        "泡完茶後，則使用渣針將茶渣掏出棄置至水方，再將沸水倒入空的茶壺，並蓋上壺蓋等待約30秒。\\\n",
        "30秒後將水倒至水方，並將壺蓋打開，利用餘溫使茶壺乾燥，\\\n",
        "而茶杯、茶海、水方則可移至流理台清洗，渣針則以泡茶巾擦乾，即完成清潔工作。\\\n",
        "\"\"\"\n",
        "prompt = f\"\"\"\n",
        "擬將收到一段文章.\n",
        "假如他是有順序的說明 \\\n",
        "以下列格式重寫說明:\n",
        "\n",
        "步驟 1 - ...\n",
        "步驟 2 - …\n",
        "…\n",
        "步驟 N - …\n",
        "\n",
        "假如文字是沒有順序的說明, \\\n",
        "就簡單寫 \\\"沒有步驟.\\\"\n",
        "\n",
        "\\\"\\\"\\\"{text_1}\\\"\\\"\\\"\n",
        "\"\"\"\n",
        "response = get_completion(prompt)\n",
        "print(\"Completion for Text 1:\")\n",
        "print(response)"
      ],
      "metadata": {
        "id": "2ZDpOZDvQnDb",
        "colab": {
          "base_uri": "https://localhost:8080/"
        },
        "outputId": "68bae2ee-173d-4f3b-c5f7-f282450127bb"
      },
      "execution_count": null,
      "outputs": [
        {
          "output_type": "stream",
          "name": "stdout",
          "text": [
            "Completion for Text 1:\n",
            "步驟 1 - 將水煮沸，以滾水溫壺\n",
            "步驟 2 - 放入茶葉，倒入能淹過茶葉的水量，蓋上壺蓋等待約10秒\n",
            "步驟 3 - 倒掉茶湯，完成第一泡\n",
            "步驟 4 - 再次將水煮沸，倒滿茶壺，蓋上壺蓋等待約50秒\n",
            "步驟 5 - 將茶湯倒入茶海，再依序分裝至茶杯中品嚐\n",
            "步驟 6 - 重複第一泡的步驟，可重複約四次\n",
            "步驟 7 - 使用渣針將茶渣掏出棄置至水方\n",
            "步驟 8 - 將沸水倒入空的茶壺，蓋上壺蓋等待約30秒\n",
            "步驟 9 - 將水倒至水方，打開壺蓋使茶壺乾燥\n",
            "步驟 10 - 清洗茶杯、茶海、水方，擦乾渣針，完成清潔工作\n"
          ]
        }
      ]
    },
    {
      "cell_type": "markdown",
      "source": [
        "**秘訣：提供風格範例供AI學習**"
      ],
      "metadata": {
        "id": "dYOBI9jUQ1X7"
      }
    },
    {
      "cell_type": "code",
      "source": [
        "prompt = f\"\"\"\n",
        "你的任務是用一致的風格回答問題\n",
        "\n",
        "<child>: 用文言文教導我台北的歷史，\n",
        "\n",
        "<grandparent>: 台北，起自清康熙，初為淡水一方聚落。\\\n",
        "歷經時局變遷，成為臺灣之都。日治現代改革，奠定現代面貌。\\\n",
        "戰後，臺灣發展蓬勃，台北政經中心，經濟繁榮。\\\n",
        "百年變遷，歷史積淀於其街巷。\\\n",
        "今臻東亞之光，展現千古風華。\\\n",
        "\n",
        "<child>: 用文言文教導我金門的歷史.\n",
        "\"\"\"\n",
        "response = get_completion(prompt)\n",
        "print(response)"
      ],
      "metadata": {
        "id": "AfiaQpr8Q0qh",
        "colab": {
          "base_uri": "https://localhost:8080/"
        },
        "outputId": "5352c9a7-e426-4730-9d30-9d533293433a"
      },
      "execution_count": null,
      "outputs": [
        {
          "output_type": "stream",
          "name": "stdout",
          "text": [
            "<grandparent>: 金門，古名夏浦，自古為重要的海防要地。歷經宋元明清諸朝，經歷戰火洗禮，成為我國重要的軍事堡壘。抗戰時期，堅守不屈，成為抗戰重鎮。戰後，金門逐漸開放，經濟發展。如今，金門風光旖旎，歷史文化深厚，展現古今交融之美。\n"
          ]
        }
      ]
    },
    {
      "cell_type": "markdown",
      "source": [
        "**秘訣:要求AI依特定步驟執行**"
      ],
      "metadata": {
        "id": "1sdjIlVYQ-_N"
      }
    },
    {
      "cell_type": "code",
      "source": [
        "text = f\"\"\"\n",
        "年輕人Jesse到歐洲旅遊，在火車上和一名法國女子偶遇，\\\n",
        "男子 Jesse對法國女孩Céline 一見鍾情。\\\n",
        "兩人下車後在古老的維也納四處閒逛，\\\n",
        "在旅途中交換了許多對人生、對愛情、對夢想的看法，\\\n",
        "兩人心靈契合，決議好好過完最後一夜。\\\n",
        "黎明破曉，兩人分手，互相愛慕的兩人拋開先前不羈拌對方的約束，\\\n",
        "允諾半年後在同一地點聚首。\\\n",
        "\"\"\"\n",
        "prompt_1 = f\"\"\"\n",
        "執行下列任務:\n",
        "1 - 將所提供的故事用一句話摘要.\n",
        "2 - 將摘要翻譯成法文.\n",
        "3 - 列出摘要中的所有人名.\n",
        "4 - Output a json object that contains the following \\\n",
        "keys: 法文摘要, 人名數.\n",
        "\n",
        "Separate your answers with line breaks.\n",
        "\n",
        "Text:\n",
        "```{text}```\n",
        "\"\"\"\n",
        "response = get_completion(prompt_1)\n",
        "print(\"Completion for prompt 1:\")\n",
        "print(response)"
      ],
      "metadata": {
        "id": "7V02rnDoQ-Su",
        "colab": {
          "base_uri": "https://localhost:8080/"
        },
        "outputId": "20e5f7ea-77e6-408d-f020-38b86a9c277c"
      },
      "execution_count": null,
      "outputs": [
        {
          "output_type": "stream",
          "name": "stdout",
          "text": [
            "Completion for prompt 1:\n",
            "摘要:\n",
            "一名年輕的男子在歐洲旅行時遇見一名法國女子，兩人在維也納度過一個浪漫的夜晚，並約定半年後再次相遇。\n",
            "\n",
            "法文摘要:\n",
            "Un jeune homme rencontre une femme française lors d'un voyage en Europe, et ils passent une nuit romantique à Vienne, convenant de se retrouver six mois plus tard.\n",
            "\n",
            "人名:\n",
            "Jesse, Céline\n",
            "\n",
            "{\n",
            "  \"法文摘要\": \"Un jeune homme rencontre une femme française lors d'un voyage en Europe, et ils passent une nuit romantique à Vienne, convenant de se retrouver six mois plus tard.\",\n",
            "  \"人名數\": 2\n",
            "}\n"
          ]
        }
      ]
    },
    {
      "cell_type": "code",
      "source": [
        "prompt_2 = f\"\"\"\n",
        "執行下列任務:\n",
        "1 - 將所提供的故事用一句話摘要.\n",
        "2 - 將摘要翻譯成法文.\n",
        "3 - 列出摘要中的所有人名.\n",
        "4 - Output a json object that contains the following \\\n",
        "keys: 法文摘要, 人名數.\n",
        "\n",
        "使用下列格式:\n",
        "原文: <text to summarize>\n",
        "摘要: <summary>\n",
        "翻譯: <summary translation>\n",
        "姓名: <list of names in summary>\n",
        "Output JSON: <json with summary and num_names>\n",
        "\n",
        "Text: <{text}>\n",
        "\"\"\"\n",
        "response = get_completion(prompt_2)\n",
        "print(\"\\nCompletion for prompt 2:\")\n",
        "print(response)"
      ],
      "metadata": {
        "id": "dot48WUHRILy",
        "colab": {
          "base_uri": "https://localhost:8080/"
        },
        "outputId": "5017fe16-fa0e-4403-ae53-c45bdf40bff6"
      },
      "execution_count": 15,
      "outputs": [
        {
          "output_type": "stream",
          "name": "stdout",
          "text": [
            "\n",
            "Completion for prompt 2:\n",
            "摘要: 提供清晰具體的指示，以引導模型達到所需的輸出，減少收到無關或不正確回應的機會。\n",
            "翻譯: Fournissez des instructions claires et précises pour guider le modèle vers la sortie souhaitée et réduire les chances de recevoir des réponses non pertinentes ou incorrectes.\n",
            "姓名: 无\n",
            "Output JSON: {\"法文摘要\": \"Fournissez des instructions claires et précises pour guider le modèle vers la sortie souhaitée et réduire les chances de recevoir des réponses non pertinentes ou incorrectes.\", \"人名數\": 0}\n"
          ]
        }
      ]
    },
    {
      "cell_type": "markdown",
      "source": [
        "**秘訣：要求AI要自已先算過再給出結論**"
      ],
      "metadata": {
        "id": "DHlx_-RYROPB"
      }
    },
    {
      "cell_type": "code",
      "source": [
        "prompt = f\"\"\"\n",
        "確定學生的解決方案是否正確。\n",
        "\n",
        "問題：\n",
        "我正在建造太陽能發電裝置，我需要\\\n",
        " 幫助制定財務報表。\n",
        "- 土地成本 100 美元/平方英尺\n",
        "- 我可以以 250 美元/平方英尺的價格購買太陽能電池板\n",
        "- 我協商了一份維護合同，費用為\\\n",
        "每年固定 10 萬美元，另外每平英尺 10 美元\\\n",
        "\n",
        "第一年營運的總成本是多少，請設計以平方英尺為變數的函數。\n",
        "\n",
        "學生的解決方案：\n",
        "設 x 為安裝尺寸（以平方英尺為單位）。\n",
        "費用：\n",
        "1.土地成本：100x\n",
        "2.太陽能板成本：250x\n",
        "3.維護成本：100,000 + 100x\n",
        "總成本：100x + 250x + 100,000 + 100x = 450x + 100,000\n",
        "\"\"\"\n",
        "response = get_completion(prompt)\n",
        "print(response)"
      ],
      "metadata": {
        "id": "AYncTW5MRNaV",
        "colab": {
          "base_uri": "https://localhost:8080/"
        },
        "outputId": "f445e979-6e79-4f7a-d389-3076cca3ef79"
      },
      "execution_count": 16,
      "outputs": [
        {
          "output_type": "stream",
          "name": "stdout",
          "text": [
            "學生的解決方案是正確的。他們將土地成本、太陽能板成本和維護成本都考慮在內，並將它們加總起來得到了總成本。他們還將安裝尺寸 x 設定為變數，這樣可以根據不同的尺寸計算出不同的總成本。\n"
          ]
        }
      ]
    },
    {
      "cell_type": "code",
      "source": [
        "prompt = f\"\"\"\n",
        "你的任務是確認學生的解答是正確還是錯誤.\\\n",
        "以下列步驟解決問題:\\\n",
        "- 首先，先找出你的解答.\\\n",
        "- 然後，比較你的解答和學生的解答，評估學生的解答是否正確 \\\n",
        "在還沒找出你的解答前，不要決定學生的解答是正確的還是錯誤的\\\n",
        "\n",
        "\n",
        "使用下列格式:\n",
        "問題:\n",
        "```\n",
        "question here\n",
        "```\n",
        "學生的解答在這：:\n",
        "```\n",
        "student's solution here\n",
        "```\n",
        "你的解答:\n",
        "```\n",
        "your solution here\n",
        "```\n",
        "學生的解答跟你的解答是一樣嗎:\n",
        "```\n",
        "yes or no\n",
        "```\n",
        "學生的成績:\n",
        "```\n",
        "正確或錯誤\n",
        "```\n",
        "\n",
        "問題：\n",
        "我正在建造太陽能發電裝置，我需要\\\n",
        " 幫助制定財務報表。\n",
        "- 土地成本 100 美元/平方英尺\n",
        "- 我可以以 250 美元/平方英尺的價格購買太陽能電池板\n",
        "- 我協商了一份維護合同，費用為\\\n",
        "每年固定 10 萬美元，另外每平英尺 10 美元\\\n",
        "\n",
        "第一年營運的總成本是多少，請設計以平方英尺為變數的函數。\n",
        "\n",
        "學生的解答：\n",
        "設 x 為安裝尺寸（以平方英尺為單位）。\n",
        "費用：\n",
        "1.土地成本：100x\n",
        "2.太陽能板成本：250x\n",
        "3.維護成本：100,000 + 100x\n",
        "總成本：100x + 250x + 100,000 + 100x = 450x + 100,000\n",
        "```\n",
        "真正的解法:\n",
        "\"\"\"\n",
        "response = get_completion(prompt)\n",
        "print(response)"
      ],
      "metadata": {
        "id": "OGzX_dgyS9C3",
        "colab": {
          "base_uri": "https://localhost:8080/"
        },
        "outputId": "e3639c34-5f39-4a37-d008-b7ed4382305e"
      },
      "execution_count": null,
      "outputs": [
        {
          "output_type": "stream",
          "name": "stdout",
          "text": [
            "你的解答:\n",
            "總成本 = 土地成本 + 太陽能板成本 + 維護成本\n",
            "總成本 = 100x + 250x + 100,000 + 10x\n",
            "總成本 = 360x + 100,000\n",
            "\n",
            "學生的解答跟你的解答是一樣嗎:\n",
            "是\n",
            "\n",
            "學生的成績:\n",
            "正確\n"
          ]
        }
      ]
    },
    {
      "cell_type": "markdown",
      "source": [
        "**秘訣：根據產品規格撰寫產品行銷文案**"
      ],
      "metadata": {
        "id": "ociC9Y4GUoEl"
      }
    },
    {
      "cell_type": "code",
      "source": [
        "fact_sheet_camera = \"\"\"\n",
        "OVERVIEW\n",
        "- ZV-1 II 是一款理想的全能 Vlog 數位相機。\n",
        "- Several options of shell color and base finishes.\n",
        "- 18-50mm 廣角變焦鏡頭\n",
        "- 內建智慧三音頭麥克風，收音更清晰\n",
        "- Cinematic Vlog Setting 影音部落格設定，營造電影感畫面\n",
        "- 點選螢幕輕鬆調整亮度和色彩，直覺操作\n",
        "- 側翻式多角度 LCD 螢幕，輕巧便攜\n",
        "- 錄影柔膚效果、臉部優先自動曝光\n",
        "- 觸控操作、散景切換和產品展示設定，輕鬆創作影音內容.\n",
        "\n",
        "鏡頭\n",
        "- F 值 (最大光圈)\tF1.8 - F4.0\n",
        "- 焦段\tf = 6.9 - 17.6 mm\n",
        "- 焦段 (35 mm 格式等效焦段)\t18 - 50 mm\n",
        "- 對焦範圍 (自鏡頭前) 約 5 cm (0.17 ft.) 至無限遠\n",
        "\n",
        "數位相機剖面圖\n",
        "- 感光元件規格：1.0 型 (13.2 mm x 8.8 mm) 堆疊式 Exmor RS CMOS 感光元件\n",
        "- 像素 (有效)靜態影像：約 2,010 萬像素\n",
        "- 像素總數：約 2,100 萬像素\n",
        "- 內建 ND 濾鏡：ND (1/8 ND)\n",
        "- 色溫範圍：2500 K - 9900 K”\n",
        "\n",
        "對焦系統\n",
        "- 對焦類型:高速混合式自動對焦 (相位式偵測自動對焦 / 對比式偵測自動對焦)\n",
        "- 對焦點:靜態影像：最多 315 點 ，影片：多達 273 個對焦點\n",
        "- 對焦類型:人物、動物\n",
        "- 對焦類型:人物、動物\n",
        "- 其他功能特色:自動對焦主體位移感度、自動對焦轉換速度 、對焦點循環\n",
        "\n",
        "其他功能特色\n",
        "-其他功能：\t電影級影音部落格設定，我的影像風格，風格外觀，景深拍照，柔膚效果\n",
        "-清晰影像變焦：\t約 2x\n",
        "\n",
        "隨附配件\n",
        "-產品內容：充電電池 NP-BX1、防風罩、\n",
        "\n",
        "產地\n",
        "- 日本\n",
        "\"\"\""
      ],
      "metadata": {
        "id": "3ucnNq4xTknZ"
      },
      "execution_count": null,
      "outputs": []
    },
    {
      "cell_type": "code",
      "source": [
        "prompt = f\"\"\"\n",
        "您的任務是幫助行銷團隊根據技術情況說明書\\\n",
        "為產品的零售網站建立產品說明.\\\n",
        "\n",
        "根據技術規格中提供的資訊撰寫產品描述，\\\n",
        "並以三個反引號分隔。\\\n",
        "\n",
        "技術規格: ```{fact_sheet_camera}```\n",
        "\"\"\"\n",
        "response = get_completion(prompt)\n",
        "print(response)"
      ],
      "metadata": {
        "id": "3du8-cCdTnCE",
        "colab": {
          "base_uri": "https://localhost:8080/"
        },
        "outputId": "931255e4-6bb6-4913-9846-01045f5f50e8"
      },
      "execution_count": null,
      "outputs": [
        {
          "output_type": "stream",
          "name": "stdout",
          "text": [
            "產品描述:\n",
            "ZV-1 II 是一款理想的全能 Vlog 數位相機，具有多種外殼顏色和基座飾面的選擇。配備18-50mm 廣角變焦鏡頭，內建智慧三音頭麥克風，可實現更清晰的收音效果。此外，具備Cinematic Vlog Setting 影音部落格設定，可營造電影感畫面。使用者可以透過點選螢幕輕鬆調整亮度和色彩，並透過側翻式多角度 LCD 螢幕輕鬆拍攝。此外，還具備錄影柔膚效果、臉部優先自動曝光、觸控操作、散景切換和產品展示設定等功能，輕鬆創作影音內容。\n",
            "\n",
            "鏡頭方面，具有F 值 (最大光圈)為F1.8 - F4.0，焦段為f = 6.9 - 17.6 mm，35 mm 格式等效焦段為18 - 50 mm，對焦範圍 (自鏡頭前) 約為5 cm (0.17 ft.) 至無限遠。\n",
            "\n",
            "數位相機剖面圖顯示感光元件規格為1.0 型 (13.2 mm x 8.8 mm) 堆疊式 Exmor RS CMOS 感光元件，像素 (有效)靜態影像約為2,010 萬像素，像素總數約為2,100 萬像素，並具有內建 ND 濾鏡：ND (1/8 ND)和色溫範圍為2500 K - 9900 K。\n",
            "\n",
            "對焦系統採用高速混合式自動對焦 (相位式偵測自動對焦 / 對比式偵測自動對焦)，靜態影像最多可達315個對焦點，影片則可達273個對焦點，並支援人物和動物對焦類型，以及自動對焦主體位移感度、自動對焦轉換速度和對焦點循環等功能。\n",
            "\n",
            "其他功能特色包括電影級影音部落格設定、我的影像風格、風格外觀、景深拍照、柔膚效果，以及約2倍的清晰影像變焦。\n",
            "\n",
            "隨附配件包括充電電池 NP-BX1和防風罩，產地為日本。\n"
          ]
        }
      ]
    },
    {
      "cell_type": "code",
      "source": [
        "prompt = f\"\"\"\n",
        "您的任務是幫助行銷團隊根據技術情況說明書為產品的零售網站建立產品說明.\n",
        "產品目標顧客是部落客，說明產品功能特色是如何滿足部落客在網路分享影片的需求。\n",
        "\n",
        "根據技術規格中提供的資訊撰寫產品描述，並以三個反引號分隔。\n",
        "\n",
        "字數限制為50個字。\n",
        "\n",
        "技術規格: ```{fact_sheet_camera}```\n",
        "\"\"\"\n",
        "response = get_completion(prompt)\n",
        "print(response)\n"
      ],
      "metadata": {
        "id": "1J5uIKtyTsZC",
        "colab": {
          "base_uri": "https://localhost:8080/"
        },
        "outputId": "30cb2399-a0a8-4371-c029-f54c6149b50d"
      },
      "execution_count": null,
      "outputs": [
        {
          "output_type": "stream",
          "name": "stdout",
          "text": [
            "產品描述: \n",
            "\"ZV-1 II 是一款理想的全能 Vlog 數位相機，擁有18-50mm 廣角變焦鏡頭和內建智慧三音頭麥克風。具備 Cinematic Vlog Setting 影音部落格設定，讓您輕鬆創作電影感畫面。此外，側翻式多角度 LCD 螢幕和觸控操作，讓操作更直覺。產品內容包括充電電池 NP-BX1 和防風罩。\"\n"
          ]
        }
      ]
    }
  ]
}