{
  "nbformat": 4,
  "nbformat_minor": 0,
  "metadata": {
    "colab": {
      "provenance": [],
      "authorship_tag": "ABX9TyO7SrXN8bOOZQmYJeeHVID5",
      "include_colab_link": true
    },
    "kernelspec": {
      "name": "python3",
      "display_name": "Python 3"
    },
    "language_info": {
      "name": "python"
    }
  },
  "cells": [
    {
      "cell_type": "markdown",
      "metadata": {
        "id": "view-in-github",
        "colab_type": "text"
      },
      "source": [
        "<a href=\"https://colab.research.google.com/github/Eddylearnedcoding/gpt-ai-assistant/blob/main/Langchain_Tex_Spiltter_report_.ipynb\" target=\"_parent\"><img src=\"https://colab.research.google.com/assets/colab-badge.svg\" alt=\"Open In Colab\"/></a>"
      ]
    },
    {
      "cell_type": "code",
      "execution_count": 2,
      "metadata": {
        "colab": {
          "base_uri": "https://localhost:8080/"
        },
        "id": "vhbcLoikf7F8",
        "outputId": "36e70aa5-bb7b-4378-f490-495b97db1f20"
      },
      "outputs": [
        {
          "output_type": "stream",
          "name": "stdout",
          "text": [
            "Collecting langchain\n",
            "  Downloading langchain-0.1.1-py3-none-any.whl (802 kB)\n",
            "\u001b[2K     \u001b[90m━━━━━━━━━━━━━━━━━━━━━━━━━━━━━━━━━━━━━━━━\u001b[0m \u001b[32m802.4/802.4 kB\u001b[0m \u001b[31m5.9 MB/s\u001b[0m eta \u001b[36m0:00:00\u001b[0m\n",
            "\u001b[?25hRequirement already satisfied: PyYAML>=5.3 in /usr/local/lib/python3.10/dist-packages (from langchain) (6.0.1)\n",
            "Requirement already satisfied: SQLAlchemy<3,>=1.4 in /usr/local/lib/python3.10/dist-packages (from langchain) (2.0.24)\n",
            "Requirement already satisfied: aiohttp<4.0.0,>=3.8.3 in /usr/local/lib/python3.10/dist-packages (from langchain) (3.9.1)\n",
            "Requirement already satisfied: async-timeout<5.0.0,>=4.0.0 in /usr/local/lib/python3.10/dist-packages (from langchain) (4.0.3)\n",
            "Collecting dataclasses-json<0.7,>=0.5.7 (from langchain)\n",
            "  Downloading dataclasses_json-0.6.3-py3-none-any.whl (28 kB)\n",
            "Collecting jsonpatch<2.0,>=1.33 (from langchain)\n",
            "  Downloading jsonpatch-1.33-py2.py3-none-any.whl (12 kB)\n",
            "Collecting langchain-community<0.1,>=0.0.13 (from langchain)\n",
            "  Downloading langchain_community-0.0.13-py3-none-any.whl (1.6 MB)\n",
            "\u001b[2K     \u001b[90m━━━━━━━━━━━━━━━━━━━━━━━━━━━━━━━━━━━━━━━━\u001b[0m \u001b[32m1.6/1.6 MB\u001b[0m \u001b[31m13.5 MB/s\u001b[0m eta \u001b[36m0:00:00\u001b[0m\n",
            "\u001b[?25hCollecting langchain-core<0.2,>=0.1.9 (from langchain)\n",
            "  Downloading langchain_core-0.1.13-py3-none-any.whl (228 kB)\n",
            "\u001b[2K     \u001b[90m━━━━━━━━━━━━━━━━━━━━━━━━━━━━━━━━━━━━━━━━\u001b[0m \u001b[32m228.7/228.7 kB\u001b[0m \u001b[31m11.7 MB/s\u001b[0m eta \u001b[36m0:00:00\u001b[0m\n",
            "\u001b[?25hCollecting langsmith<0.1.0,>=0.0.77 (from langchain)\n",
            "  Downloading langsmith-0.0.83-py3-none-any.whl (49 kB)\n",
            "\u001b[2K     \u001b[90m━━━━━━━━━━━━━━━━━━━━━━━━━━━━━━━━━━━━━━━━\u001b[0m \u001b[32m49.3/49.3 kB\u001b[0m \u001b[31m5.5 MB/s\u001b[0m eta \u001b[36m0:00:00\u001b[0m\n",
            "\u001b[?25hRequirement already satisfied: numpy<2,>=1 in /usr/local/lib/python3.10/dist-packages (from langchain) (1.23.5)\n",
            "Requirement already satisfied: pydantic<3,>=1 in /usr/local/lib/python3.10/dist-packages (from langchain) (1.10.13)\n",
            "Requirement already satisfied: requests<3,>=2 in /usr/local/lib/python3.10/dist-packages (from langchain) (2.31.0)\n",
            "Requirement already satisfied: tenacity<9.0.0,>=8.1.0 in /usr/local/lib/python3.10/dist-packages (from langchain) (8.2.3)\n",
            "Requirement already satisfied: attrs>=17.3.0 in /usr/local/lib/python3.10/dist-packages (from aiohttp<4.0.0,>=3.8.3->langchain) (23.2.0)\n",
            "Requirement already satisfied: multidict<7.0,>=4.5 in /usr/local/lib/python3.10/dist-packages (from aiohttp<4.0.0,>=3.8.3->langchain) (6.0.4)\n",
            "Requirement already satisfied: yarl<2.0,>=1.0 in /usr/local/lib/python3.10/dist-packages (from aiohttp<4.0.0,>=3.8.3->langchain) (1.9.4)\n",
            "Requirement already satisfied: frozenlist>=1.1.1 in /usr/local/lib/python3.10/dist-packages (from aiohttp<4.0.0,>=3.8.3->langchain) (1.4.1)\n",
            "Requirement already satisfied: aiosignal>=1.1.2 in /usr/local/lib/python3.10/dist-packages (from aiohttp<4.0.0,>=3.8.3->langchain) (1.3.1)\n",
            "Collecting marshmallow<4.0.0,>=3.18.0 (from dataclasses-json<0.7,>=0.5.7->langchain)\n",
            "  Downloading marshmallow-3.20.2-py3-none-any.whl (49 kB)\n",
            "\u001b[2K     \u001b[90m━━━━━━━━━━━━━━━━━━━━━━━━━━━━━━━━━━━━━━━━\u001b[0m \u001b[32m49.4/49.4 kB\u001b[0m \u001b[31m6.0 MB/s\u001b[0m eta \u001b[36m0:00:00\u001b[0m\n",
            "\u001b[?25hCollecting typing-inspect<1,>=0.4.0 (from dataclasses-json<0.7,>=0.5.7->langchain)\n",
            "  Downloading typing_inspect-0.9.0-py3-none-any.whl (8.8 kB)\n",
            "Collecting jsonpointer>=1.9 (from jsonpatch<2.0,>=1.33->langchain)\n",
            "  Downloading jsonpointer-2.4-py2.py3-none-any.whl (7.8 kB)\n",
            "Requirement already satisfied: anyio<5,>=3 in /usr/local/lib/python3.10/dist-packages (from langchain-core<0.2,>=0.1.9->langchain) (3.7.1)\n",
            "Requirement already satisfied: packaging<24.0,>=23.2 in /usr/local/lib/python3.10/dist-packages (from langchain-core<0.2,>=0.1.9->langchain) (23.2)\n",
            "Requirement already satisfied: typing-extensions>=4.2.0 in /usr/local/lib/python3.10/dist-packages (from pydantic<3,>=1->langchain) (4.5.0)\n",
            "Requirement already satisfied: charset-normalizer<4,>=2 in /usr/local/lib/python3.10/dist-packages (from requests<3,>=2->langchain) (3.3.2)\n",
            "Requirement already satisfied: idna<4,>=2.5 in /usr/local/lib/python3.10/dist-packages (from requests<3,>=2->langchain) (3.6)\n",
            "Requirement already satisfied: urllib3<3,>=1.21.1 in /usr/local/lib/python3.10/dist-packages (from requests<3,>=2->langchain) (2.0.7)\n",
            "Requirement already satisfied: certifi>=2017.4.17 in /usr/local/lib/python3.10/dist-packages (from requests<3,>=2->langchain) (2023.11.17)\n",
            "Requirement already satisfied: greenlet!=0.4.17 in /usr/local/lib/python3.10/dist-packages (from SQLAlchemy<3,>=1.4->langchain) (3.0.3)\n",
            "Requirement already satisfied: sniffio>=1.1 in /usr/local/lib/python3.10/dist-packages (from anyio<5,>=3->langchain-core<0.2,>=0.1.9->langchain) (1.3.0)\n",
            "Requirement already satisfied: exceptiongroup in /usr/local/lib/python3.10/dist-packages (from anyio<5,>=3->langchain-core<0.2,>=0.1.9->langchain) (1.2.0)\n",
            "Collecting mypy-extensions>=0.3.0 (from typing-inspect<1,>=0.4.0->dataclasses-json<0.7,>=0.5.7->langchain)\n",
            "  Downloading mypy_extensions-1.0.0-py3-none-any.whl (4.7 kB)\n",
            "Installing collected packages: mypy-extensions, marshmallow, jsonpointer, typing-inspect, langsmith, jsonpatch, langchain-core, dataclasses-json, langchain-community, langchain\n",
            "Successfully installed dataclasses-json-0.6.3 jsonpatch-1.33 jsonpointer-2.4 langchain-0.1.1 langchain-community-0.0.13 langchain-core-0.1.13 langsmith-0.0.83 marshmallow-3.20.2 mypy-extensions-1.0.0 typing-inspect-0.9.0\n"
          ]
        }
      ],
      "source": [
        "!pip install langchain\n",
        "from langchain.text_splitter import RecursiveCharacterTextSplitter, CharacterTextSplitter"
      ]
    },
    {
      "cell_type": "code",
      "source": [
        "from langchain.text_splitter import RecursiveCharacterTextSplitter, CharacterTextSplitter\n",
        "\n",
        "chunk_size = 20\n",
        "chunk_overlap = 4\n",
        "\n",
        "r_splitter = RecursiveCharacterTextSplitter(\n",
        "    chunk_size=chunk_size, chunk_overlap=chunk_overlap)\n",
        "c_splitter = CharacterTextSplitter(\n",
        "    chunk_size=chunk_size, chunk_overlap=chunk_overlap)\n",
        "\n",
        "text = \"hello world, how about you? = i am in the machine learning class. So what I wanna do today is just spend a little time going over the langchain of the class\"\n",
        "rs = r_splitter.split_text(text)\n",
        "print(type(rs))\n",
        "print(len(rs))\n",
        "for item in rs:\n",
        "    print(item)"
      ],
      "metadata": {
        "colab": {
          "base_uri": "https://localhost:8080/"
        },
        "id": "HkiYoO7IgUMp",
        "outputId": "8d57c515-e904-439a-b508-bd311758c9f5"
      },
      "execution_count": 4,
      "outputs": [
        {
          "output_type": "stream",
          "name": "stdout",
          "text": [
            "<class 'list'>\n",
            "11\n",
            "hello world, how\n",
            "how about you? = i\n",
            "= i am in the\n",
            "the machine\n",
            "learning class. So\n",
            "So what I wanna do\n",
            "do today is just\n",
            "spend a little time\n",
            "going over the\n",
            "the langchain of\n",
            "of the class\n"
          ]
        }
      ]
    },
    {
      "cell_type": "code",
      "source": [
        "!pip install tiktoken\n",
        "from langchain.text_splitter import TokenTextSplitter\n",
        "token_splitter = TokenTextSplitter()\n",
        "text = \"hello world, how about you? = i am in the machine learning class. So what I wanna do today is just spend a little time going over the langchain of the class\"\n",
        "rs = token_splitter.split_text(text)\n",
        "print(len(rs))\n",
        "for item in rs:\n",
        "  print(item)"
      ],
      "metadata": {
        "colab": {
          "base_uri": "https://localhost:8080/"
        },
        "id": "J7S64qnVgXPy",
        "outputId": "f0153699-4f13-404e-fd40-2e28df92371a"
      },
      "execution_count": 5,
      "outputs": [
        {
          "output_type": "stream",
          "name": "stdout",
          "text": [
            "Collecting tiktoken\n",
            "  Downloading tiktoken-0.5.2-cp310-cp310-manylinux_2_17_x86_64.manylinux2014_x86_64.whl (2.0 MB)\n",
            "\u001b[2K     \u001b[90m━━━━━━━━━━━━━━━━━━━━━━━━━━━━━━━━━━━━━━━━\u001b[0m \u001b[32m2.0/2.0 MB\u001b[0m \u001b[31m9.5 MB/s\u001b[0m eta \u001b[36m0:00:00\u001b[0m\n",
            "\u001b[?25hRequirement already satisfied: regex>=2022.1.18 in /usr/local/lib/python3.10/dist-packages (from tiktoken) (2023.6.3)\n",
            "Requirement already satisfied: requests>=2.26.0 in /usr/local/lib/python3.10/dist-packages (from tiktoken) (2.31.0)\n",
            "Requirement already satisfied: charset-normalizer<4,>=2 in /usr/local/lib/python3.10/dist-packages (from requests>=2.26.0->tiktoken) (3.3.2)\n",
            "Requirement already satisfied: idna<4,>=2.5 in /usr/local/lib/python3.10/dist-packages (from requests>=2.26.0->tiktoken) (3.6)\n",
            "Requirement already satisfied: urllib3<3,>=1.21.1 in /usr/local/lib/python3.10/dist-packages (from requests>=2.26.0->tiktoken) (2.0.7)\n",
            "Requirement already satisfied: certifi>=2017.4.17 in /usr/local/lib/python3.10/dist-packages (from requests>=2.26.0->tiktoken) (2023.11.17)\n",
            "Installing collected packages: tiktoken\n",
            "\u001b[31mERROR: pip's dependency resolver does not currently take into account all the packages that are installed. This behaviour is the source of the following dependency conflicts.\n",
            "llmx 0.0.15a0 requires cohere, which is not installed.\n",
            "llmx 0.0.15a0 requires openai, which is not installed.\u001b[0m\u001b[31m\n",
            "\u001b[0mSuccessfully installed tiktoken-0.5.2\n",
            "1\n",
            "hello world, how about you? = i am in the machine learning class. So what I wanna do today is just spend a little time going over the langchain of the class\n"
          ]
        }
      ]
    },
    {
      "cell_type": "code",
      "source": [
        "some_text = \"\"\"When writing documents, writers will use document structure to group content. \\\n",
        "This can convey to the reader, which idea's are related. For example, closely related ideas \\\n",
        "are in sentances. Similar ideas are in paragraphs. Paragraphs form a document. \\n\\n  \\\n",
        "Paragraphs are often delimited with a carriage return or two carriage returns. \\\n",
        "Carriage returns are the \"backslash n\" you see embedded in this string. \\\n",
        "Sentences have a period at the end, but also, have a space.\\\n",
        "and words are separated by space.\"\"\""
      ],
      "metadata": {
        "id": "Bm9kKIrugXs-"
      },
      "execution_count": 6,
      "outputs": []
    },
    {
      "cell_type": "markdown",
      "source": [],
      "metadata": {
        "id": "Z5fAbx3hgYIO"
      }
    },
    {
      "cell_type": "code",
      "source": [
        "some_text = \"\"\"在撰寫文件時，作者會使用文件結構將內容分組。\\\n",
        "這可以向讀者傳達哪些想法是相關的。 例如，密切相關的想法\\\n",
        "是在句子中。 類似的想法在段落中。 段落構成文檔。 \\n\\n\\\n",
        "段落通常用一個退格鍵或兩個退格鍵來定義。 \\\n",
        "backspack 傳回的是您看到嵌入在該字串中的「反斜線 n」。 \\\n",
        "句子末尾有一個句號，但也有一個空格。\\\n",
        "並且在單字之間用空格分隔。\"\"\""
      ],
      "metadata": {
        "id": "z5DH0eSagaLc"
      },
      "execution_count": 7,
      "outputs": []
    },
    {
      "cell_type": "code",
      "source": [
        "len(some_text)"
      ],
      "metadata": {
        "colab": {
          "base_uri": "https://localhost:8080/"
        },
        "id": "j55_9VWkhSED",
        "outputId": "c1208e8f-b6b4-4df8-a119-76bf82d48da8"
      },
      "execution_count": 8,
      "outputs": [
        {
          "output_type": "execute_result",
          "data": {
            "text/plain": [
              "164"
            ]
          },
          "metadata": {},
          "execution_count": 8
        }
      ]
    },
    {
      "cell_type": "code",
      "source": [
        "c_splitter.split_text(some_text)"
      ],
      "metadata": {
        "colab": {
          "base_uri": "https://localhost:8080/"
        },
        "id": "0Pw8bcG1hjGv",
        "outputId": "fbd3e5db-e603-4413-d2d8-354b60e4db1e"
      },
      "execution_count": 13,
      "outputs": [
        {
          "output_type": "stream",
          "name": "stderr",
          "text": [
            "WARNING:langchain.text_splitter:Created a chunk of size 76, which is longer than the specified 20\n"
          ]
        },
        {
          "output_type": "execute_result",
          "data": {
            "text/plain": [
              "['在撰寫文件時，作者會使用文件結構將內容分組。這可以向讀者傳達哪些想法是相關的。 例如，密切相關的想法是在句子中。 類似的想法在段落中。 段落構成文檔。',\n",
              " '段落通常用一個退格鍵或兩個退格鍵來定義。 backspack 傳回的是您看到嵌入在該字串中的「反斜線 n」。 句子末尾有一個句號，但也有一個空格。並且在單字之間用空格分隔。']"
            ]
          },
          "metadata": {},
          "execution_count": 13
        }
      ]
    },
    {
      "cell_type": "code",
      "source": [
        "r_splitter = RecursiveCharacterTextSplitter(\n",
        "    chunk_size=100,\n",
        "    chunk_overlap=20,\n",
        "    separators=[\"\\n\\n\", \"\\n\", \"(?<=\\. )\", \" \", \"\"]\n",
        ")\n",
        "r_splitter.split_text(some_text)"
      ],
      "metadata": {
        "colab": {
          "base_uri": "https://localhost:8080/"
        },
        "id": "gsP6pEGChkon",
        "outputId": "255e5ce4-0231-4af1-cd69-6457c96c7643"
      },
      "execution_count": 14,
      "outputs": [
        {
          "output_type": "execute_result",
          "data": {
            "text/plain": [
              "['在撰寫文件時，作者會使用文件結構將內容分組。這可以向讀者傳達哪些想法是相關的。 例如，密切相關的想法是在句子中。 類似的想法在段落中。 段落構成文檔。',\n",
              " '段落通常用一個退格鍵或兩個退格鍵來定義。 backspack 傳回的是您看到嵌入在該字串中的「反斜線 n」。 句子末尾有一個句號，但也有一個空格。並且在單字之間用空格分隔。']"
            ]
          },
          "metadata": {},
          "execution_count": 14
        }
      ]
    },
    {
      "cell_type": "code",
      "source": [
        "!pip install pypdf\n",
        "def import_openai_embedding():\n",
        "  \"\"\"Imports the OpenAI embedding model.\"\"\"\n",
        "  from transformers import AutoModelForSeq2SeqLM\n",
        "\n",
        "from langchain.document_loaders import PyPDFLoader\n",
        "import langchain.embeddings.openai\n",
        "model = import_openai_embedding()\n",
        "\n",
        "loader = PyPDFLoader(\"/home/demenia .pdf\")\n",
        "pages = loader.load()"
      ],
      "metadata": {
        "colab": {
          "base_uri": "https://localhost:8080/"
        },
        "id": "oADKF5TqhwF2",
        "outputId": "40bdf338-aeda-4172-df4f-61fa998f1072"
      },
      "execution_count": 33,
      "outputs": [
        {
          "output_type": "stream",
          "name": "stdout",
          "text": [
            "Requirement already satisfied: pypdf in /usr/local/lib/python3.10/dist-packages (4.0.0)\n"
          ]
        }
      ]
    },
    {
      "cell_type": "code",
      "source": [
        "len(docs)\n",
        "doc_reader = PyPDFLoader(\"/home/demenia .pdf\")"
      ],
      "metadata": {
        "id": "ZDDO-MGNh9_Z"
      },
      "execution_count": 37,
      "outputs": []
    },
    {
      "cell_type": "code",
      "source": [
        "from langchain.text_splitter import CharacterTextSplitter\n",
        "text_splitter = CharacterTextSplitter(\n",
        "    separator=\"\\n\",\n",
        "    chunk_size=20,\n",
        "    chunk_overlap=10,\n",
        "    length_function=len\n",
        ")\n"
      ],
      "metadata": {
        "id": "sNNfkMBZiHRz"
      },
      "execution_count": 66,
      "outputs": []
    },
    {
      "cell_type": "code",
      "source": [
        "docs = text_splitter.split_documents(pages)"
      ],
      "metadata": {
        "colab": {
          "base_uri": "https://localhost:8080/"
        },
        "id": "irv_PCBqiMZb",
        "outputId": "cab9f9ed-6194-46de-ed85-9cf32a877b2c"
      },
      "execution_count": 67,
      "outputs": [
        {
          "output_type": "stream",
          "name": "stderr",
          "text": [
            "WARNING:langchain.text_splitter:Created a chunk of size 33, which is longer than the specified 20\n",
            "WARNING:langchain.text_splitter:Created a chunk of size 89, which is longer than the specified 20\n",
            "WARNING:langchain.text_splitter:Created a chunk of size 37, which is longer than the specified 20\n",
            "WARNING:langchain.text_splitter:Created a chunk of size 96, which is longer than the specified 20\n",
            "WARNING:langchain.text_splitter:Created a chunk of size 97, which is longer than the specified 20\n",
            "WARNING:langchain.text_splitter:Created a chunk of size 71, which is longer than the specified 20\n",
            "WARNING:langchain.text_splitter:Created a chunk of size 93, which is longer than the specified 20\n",
            "WARNING:langchain.text_splitter:Created a chunk of size 22, which is longer than the specified 20\n",
            "WARNING:langchain.text_splitter:Created a chunk of size 93, which is longer than the specified 20\n",
            "WARNING:langchain.text_splitter:Created a chunk of size 80, which is longer than the specified 20\n",
            "WARNING:langchain.text_splitter:Created a chunk of size 85, which is longer than the specified 20\n",
            "WARNING:langchain.text_splitter:Created a chunk of size 69, which is longer than the specified 20\n",
            "WARNING:langchain.text_splitter:Created a chunk of size 89, which is longer than the specified 20\n",
            "WARNING:langchain.text_splitter:Created a chunk of size 30, which is longer than the specified 20\n",
            "WARNING:langchain.text_splitter:Created a chunk of size 76, which is longer than the specified 20\n",
            "WARNING:langchain.text_splitter:Created a chunk of size 92, which is longer than the specified 20\n",
            "WARNING:langchain.text_splitter:Created a chunk of size 52, which is longer than the specified 20\n",
            "WARNING:langchain.text_splitter:Created a chunk of size 99, which is longer than the specified 20\n",
            "WARNING:langchain.text_splitter:Created a chunk of size 43, which is longer than the specified 20\n",
            "WARNING:langchain.text_splitter:Created a chunk of size 101, which is longer than the specified 20\n",
            "WARNING:langchain.text_splitter:Created a chunk of size 100, which is longer than the specified 20\n",
            "WARNING:langchain.text_splitter:Created a chunk of size 107, which is longer than the specified 20\n",
            "WARNING:langchain.text_splitter:Created a chunk of size 92, which is longer than the specified 20\n",
            "WARNING:langchain.text_splitter:Created a chunk of size 355, which is longer than the specified 20\n",
            "WARNING:langchain.text_splitter:Created a chunk of size 33, which is longer than the specified 20\n",
            "WARNING:langchain.text_splitter:Created a chunk of size 26, which is longer than the specified 20\n",
            "WARNING:langchain.text_splitter:Created a chunk of size 22, which is longer than the specified 20\n",
            "WARNING:langchain.text_splitter:Created a chunk of size 36, which is longer than the specified 20\n",
            "WARNING:langchain.text_splitter:Created a chunk of size 73, which is longer than the specified 20\n",
            "WARNING:langchain.text_splitter:Created a chunk of size 33, which is longer than the specified 20\n",
            "WARNING:langchain.text_splitter:Created a chunk of size 24, which is longer than the specified 20\n",
            "WARNING:langchain.text_splitter:Created a chunk of size 25, which is longer than the specified 20\n",
            "WARNING:langchain.text_splitter:Created a chunk of size 24, which is longer than the specified 20\n",
            "WARNING:langchain.text_splitter:Created a chunk of size 24, which is longer than the specified 20\n",
            "WARNING:langchain.text_splitter:Created a chunk of size 21, which is longer than the specified 20\n",
            "WARNING:langchain.text_splitter:Created a chunk of size 27, which is longer than the specified 20\n",
            "WARNING:langchain.text_splitter:Created a chunk of size 21, which is longer than the specified 20\n",
            "WARNING:langchain.text_splitter:Created a chunk of size 91, which is longer than the specified 20\n",
            "WARNING:langchain.text_splitter:Created a chunk of size 103, which is longer than the specified 20\n",
            "WARNING:langchain.text_splitter:Created a chunk of size 95, which is longer than the specified 20\n",
            "WARNING:langchain.text_splitter:Created a chunk of size 96, which is longer than the specified 20\n",
            "WARNING:langchain.text_splitter:Created a chunk of size 102, which is longer than the specified 20\n",
            "WARNING:langchain.text_splitter:Created a chunk of size 29, which is longer than the specified 20\n",
            "WARNING:langchain.text_splitter:Created a chunk of size 95, which is longer than the specified 20\n",
            "WARNING:langchain.text_splitter:Created a chunk of size 24, which is longer than the specified 20\n",
            "WARNING:langchain.text_splitter:Created a chunk of size 95, which is longer than the specified 20\n",
            "WARNING:langchain.text_splitter:Created a chunk of size 92, which is longer than the specified 20\n",
            "WARNING:langchain.text_splitter:Created a chunk of size 99, which is longer than the specified 20\n",
            "WARNING:langchain.text_splitter:Created a chunk of size 84, which is longer than the specified 20\n",
            "WARNING:langchain.text_splitter:Created a chunk of size 31, which is longer than the specified 20\n",
            "WARNING:langchain.text_splitter:Created a chunk of size 33, which is longer than the specified 20\n",
            "WARNING:langchain.text_splitter:Created a chunk of size 84, which is longer than the specified 20\n",
            "WARNING:langchain.text_splitter:Created a chunk of size 89, which is longer than the specified 20\n",
            "WARNING:langchain.text_splitter:Created a chunk of size 104, which is longer than the specified 20\n",
            "WARNING:langchain.text_splitter:Created a chunk of size 102, which is longer than the specified 20\n",
            "WARNING:langchain.text_splitter:Created a chunk of size 102, which is longer than the specified 20\n",
            "WARNING:langchain.text_splitter:Created a chunk of size 94, which is longer than the specified 20\n",
            "WARNING:langchain.text_splitter:Created a chunk of size 92, which is longer than the specified 20\n",
            "WARNING:langchain.text_splitter:Created a chunk of size 95, which is longer than the specified 20\n",
            "WARNING:langchain.text_splitter:Created a chunk of size 102, which is longer than the specified 20\n",
            "WARNING:langchain.text_splitter:Created a chunk of size 95, which is longer than the specified 20\n",
            "WARNING:langchain.text_splitter:Created a chunk of size 96, which is longer than the specified 20\n",
            "WARNING:langchain.text_splitter:Created a chunk of size 94, which is longer than the specified 20\n",
            "WARNING:langchain.text_splitter:Created a chunk of size 101, which is longer than the specified 20\n",
            "WARNING:langchain.text_splitter:Created a chunk of size 100, which is longer than the specified 20\n",
            "WARNING:langchain.text_splitter:Created a chunk of size 69, which is longer than the specified 20\n",
            "WARNING:langchain.text_splitter:Created a chunk of size 93, which is longer than the specified 20\n",
            "WARNING:langchain.text_splitter:Created a chunk of size 99, which is longer than the specified 20\n",
            "WARNING:langchain.text_splitter:Created a chunk of size 33, which is longer than the specified 20\n",
            "WARNING:langchain.text_splitter:Created a chunk of size 103, which is longer than the specified 20\n",
            "WARNING:langchain.text_splitter:Created a chunk of size 59, which is longer than the specified 20\n",
            "WARNING:langchain.text_splitter:Created a chunk of size 89, which is longer than the specified 20\n",
            "WARNING:langchain.text_splitter:Created a chunk of size 95, which is longer than the specified 20\n",
            "WARNING:langchain.text_splitter:Created a chunk of size 33, which is longer than the specified 20\n",
            "WARNING:langchain.text_splitter:Created a chunk of size 89, which is longer than the specified 20\n",
            "WARNING:langchain.text_splitter:Created a chunk of size 99, which is longer than the specified 20\n",
            "WARNING:langchain.text_splitter:Created a chunk of size 99, which is longer than the specified 20\n",
            "WARNING:langchain.text_splitter:Created a chunk of size 97, which is longer than the specified 20\n",
            "WARNING:langchain.text_splitter:Created a chunk of size 106, which is longer than the specified 20\n",
            "WARNING:langchain.text_splitter:Created a chunk of size 101, which is longer than the specified 20\n",
            "WARNING:langchain.text_splitter:Created a chunk of size 101, which is longer than the specified 20\n",
            "WARNING:langchain.text_splitter:Created a chunk of size 99, which is longer than the specified 20\n",
            "WARNING:langchain.text_splitter:Created a chunk of size 94, which is longer than the specified 20\n",
            "WARNING:langchain.text_splitter:Created a chunk of size 98, which is longer than the specified 20\n",
            "WARNING:langchain.text_splitter:Created a chunk of size 105, which is longer than the specified 20\n",
            "WARNING:langchain.text_splitter:Created a chunk of size 36, which is longer than the specified 20\n",
            "WARNING:langchain.text_splitter:Created a chunk of size 84, which is longer than the specified 20\n",
            "WARNING:langchain.text_splitter:Created a chunk of size 94, which is longer than the specified 20\n",
            "WARNING:langchain.text_splitter:Created a chunk of size 98, which is longer than the specified 20\n",
            "WARNING:langchain.text_splitter:Created a chunk of size 96, which is longer than the specified 20\n",
            "WARNING:langchain.text_splitter:Created a chunk of size 102, which is longer than the specified 20\n",
            "WARNING:langchain.text_splitter:Created a chunk of size 87, which is longer than the specified 20\n",
            "WARNING:langchain.text_splitter:Created a chunk of size 103, which is longer than the specified 20\n",
            "WARNING:langchain.text_splitter:Created a chunk of size 97, which is longer than the specified 20\n",
            "WARNING:langchain.text_splitter:Created a chunk of size 98, which is longer than the specified 20\n",
            "WARNING:langchain.text_splitter:Created a chunk of size 33, which is longer than the specified 20\n",
            "WARNING:langchain.text_splitter:Created a chunk of size 99, which is longer than the specified 20\n",
            "WARNING:langchain.text_splitter:Created a chunk of size 92, which is longer than the specified 20\n",
            "WARNING:langchain.text_splitter:Created a chunk of size 101, which is longer than the specified 20\n",
            "WARNING:langchain.text_splitter:Created a chunk of size 101, which is longer than the specified 20\n",
            "WARNING:langchain.text_splitter:Created a chunk of size 96, which is longer than the specified 20\n",
            "WARNING:langchain.text_splitter:Created a chunk of size 103, which is longer than the specified 20\n",
            "WARNING:langchain.text_splitter:Created a chunk of size 99, which is longer than the specified 20\n",
            "WARNING:langchain.text_splitter:Created a chunk of size 99, which is longer than the specified 20\n",
            "WARNING:langchain.text_splitter:Created a chunk of size 98, which is longer than the specified 20\n",
            "WARNING:langchain.text_splitter:Created a chunk of size 96, which is longer than the specified 20\n",
            "WARNING:langchain.text_splitter:Created a chunk of size 81, which is longer than the specified 20\n",
            "WARNING:langchain.text_splitter:Created a chunk of size 84, which is longer than the specified 20\n",
            "WARNING:langchain.text_splitter:Created a chunk of size 97, which is longer than the specified 20\n",
            "WARNING:langchain.text_splitter:Created a chunk of size 100, which is longer than the specified 20\n",
            "WARNING:langchain.text_splitter:Created a chunk of size 102, which is longer than the specified 20\n",
            "WARNING:langchain.text_splitter:Created a chunk of size 96, which is longer than the specified 20\n",
            "WARNING:langchain.text_splitter:Created a chunk of size 35, which is longer than the specified 20\n",
            "WARNING:langchain.text_splitter:Created a chunk of size 94, which is longer than the specified 20\n",
            "WARNING:langchain.text_splitter:Created a chunk of size 33, which is longer than the specified 20\n",
            "WARNING:langchain.text_splitter:Created a chunk of size 105, which is longer than the specified 20\n",
            "WARNING:langchain.text_splitter:Created a chunk of size 100, which is longer than the specified 20\n",
            "WARNING:langchain.text_splitter:Created a chunk of size 95, which is longer than the specified 20\n",
            "WARNING:langchain.text_splitter:Created a chunk of size 99, which is longer than the specified 20\n",
            "WARNING:langchain.text_splitter:Created a chunk of size 106, which is longer than the specified 20\n",
            "WARNING:langchain.text_splitter:Created a chunk of size 100, which is longer than the specified 20\n",
            "WARNING:langchain.text_splitter:Created a chunk of size 96, which is longer than the specified 20\n",
            "WARNING:langchain.text_splitter:Created a chunk of size 102, which is longer than the specified 20\n",
            "WARNING:langchain.text_splitter:Created a chunk of size 31, which is longer than the specified 20\n",
            "WARNING:langchain.text_splitter:Created a chunk of size 95, which is longer than the specified 20\n",
            "WARNING:langchain.text_splitter:Created a chunk of size 92, which is longer than the specified 20\n",
            "WARNING:langchain.text_splitter:Created a chunk of size 106, which is longer than the specified 20\n",
            "WARNING:langchain.text_splitter:Created a chunk of size 102, which is longer than the specified 20\n",
            "WARNING:langchain.text_splitter:Created a chunk of size 97, which is longer than the specified 20\n",
            "WARNING:langchain.text_splitter:Created a chunk of size 101, which is longer than the specified 20\n",
            "WARNING:langchain.text_splitter:Created a chunk of size 31, which is longer than the specified 20\n",
            "WARNING:langchain.text_splitter:Created a chunk of size 87, which is longer than the specified 20\n",
            "WARNING:langchain.text_splitter:Created a chunk of size 103, which is longer than the specified 20\n",
            "WARNING:langchain.text_splitter:Created a chunk of size 103, which is longer than the specified 20\n",
            "WARNING:langchain.text_splitter:Created a chunk of size 103, which is longer than the specified 20\n",
            "WARNING:langchain.text_splitter:Created a chunk of size 93, which is longer than the specified 20\n",
            "WARNING:langchain.text_splitter:Created a chunk of size 33, which is longer than the specified 20\n",
            "WARNING:langchain.text_splitter:Created a chunk of size 97, which is longer than the specified 20\n",
            "WARNING:langchain.text_splitter:Created a chunk of size 102, which is longer than the specified 20\n",
            "WARNING:langchain.text_splitter:Created a chunk of size 106, which is longer than the specified 20\n",
            "WARNING:langchain.text_splitter:Created a chunk of size 105, which is longer than the specified 20\n",
            "WARNING:langchain.text_splitter:Created a chunk of size 80, which is longer than the specified 20\n",
            "WARNING:langchain.text_splitter:Created a chunk of size 98, which is longer than the specified 20\n",
            "WARNING:langchain.text_splitter:Created a chunk of size 98, which is longer than the specified 20\n",
            "WARNING:langchain.text_splitter:Created a chunk of size 104, which is longer than the specified 20\n",
            "WARNING:langchain.text_splitter:Created a chunk of size 105, which is longer than the specified 20\n",
            "WARNING:langchain.text_splitter:Created a chunk of size 75, which is longer than the specified 20\n",
            "WARNING:langchain.text_splitter:Created a chunk of size 100, which is longer than the specified 20\n",
            "WARNING:langchain.text_splitter:Created a chunk of size 91, which is longer than the specified 20\n",
            "WARNING:langchain.text_splitter:Created a chunk of size 100, which is longer than the specified 20\n",
            "WARNING:langchain.text_splitter:Created a chunk of size 103, which is longer than the specified 20\n",
            "WARNING:langchain.text_splitter:Created a chunk of size 106, which is longer than the specified 20\n",
            "WARNING:langchain.text_splitter:Created a chunk of size 59, which is longer than the specified 20\n",
            "WARNING:langchain.text_splitter:Created a chunk of size 94, which is longer than the specified 20\n",
            "WARNING:langchain.text_splitter:Created a chunk of size 96, which is longer than the specified 20\n",
            "WARNING:langchain.text_splitter:Created a chunk of size 103, which is longer than the specified 20\n",
            "WARNING:langchain.text_splitter:Created a chunk of size 97, which is longer than the specified 20\n",
            "WARNING:langchain.text_splitter:Created a chunk of size 33, which is longer than the specified 20\n",
            "WARNING:langchain.text_splitter:Created a chunk of size 94, which is longer than the specified 20\n",
            "WARNING:langchain.text_splitter:Created a chunk of size 102, which is longer than the specified 20\n",
            "WARNING:langchain.text_splitter:Created a chunk of size 96, which is longer than the specified 20\n",
            "WARNING:langchain.text_splitter:Created a chunk of size 95, which is longer than the specified 20\n",
            "WARNING:langchain.text_splitter:Created a chunk of size 104, which is longer than the specified 20\n",
            "WARNING:langchain.text_splitter:Created a chunk of size 45, which is longer than the specified 20\n",
            "WARNING:langchain.text_splitter:Created a chunk of size 55, which is longer than the specified 20\n",
            "WARNING:langchain.text_splitter:Created a chunk of size 37, which is longer than the specified 20\n",
            "WARNING:langchain.text_splitter:Created a chunk of size 93, which is longer than the specified 20\n",
            "WARNING:langchain.text_splitter:Created a chunk of size 107, which is longer than the specified 20\n",
            "WARNING:langchain.text_splitter:Created a chunk of size 102, which is longer than the specified 20\n",
            "WARNING:langchain.text_splitter:Created a chunk of size 97, which is longer than the specified 20\n",
            "WARNING:langchain.text_splitter:Created a chunk of size 105, which is longer than the specified 20\n",
            "WARNING:langchain.text_splitter:Created a chunk of size 101, which is longer than the specified 20\n",
            "WARNING:langchain.text_splitter:Created a chunk of size 97, which is longer than the specified 20\n",
            "WARNING:langchain.text_splitter:Created a chunk of size 96, which is longer than the specified 20\n",
            "WARNING:langchain.text_splitter:Created a chunk of size 97, which is longer than the specified 20\n",
            "WARNING:langchain.text_splitter:Created a chunk of size 99, which is longer than the specified 20\n",
            "WARNING:langchain.text_splitter:Created a chunk of size 95, which is longer than the specified 20\n",
            "WARNING:langchain.text_splitter:Created a chunk of size 33, which is longer than the specified 20\n",
            "WARNING:langchain.text_splitter:Created a chunk of size 95, which is longer than the specified 20\n",
            "WARNING:langchain.text_splitter:Created a chunk of size 23, which is longer than the specified 20\n",
            "WARNING:langchain.text_splitter:Created a chunk of size 58, which is longer than the specified 20\n",
            "WARNING:langchain.text_splitter:Created a chunk of size 37, which is longer than the specified 20\n",
            "WARNING:langchain.text_splitter:Created a chunk of size 92, which is longer than the specified 20\n",
            "WARNING:langchain.text_splitter:Created a chunk of size 101, which is longer than the specified 20\n",
            "WARNING:langchain.text_splitter:Created a chunk of size 96, which is longer than the specified 20\n",
            "WARNING:langchain.text_splitter:Created a chunk of size 99, which is longer than the specified 20\n",
            "WARNING:langchain.text_splitter:Created a chunk of size 98, which is longer than the specified 20\n",
            "WARNING:langchain.text_splitter:Created a chunk of size 96, which is longer than the specified 20\n",
            "WARNING:langchain.text_splitter:Created a chunk of size 98, which is longer than the specified 20\n",
            "WARNING:langchain.text_splitter:Created a chunk of size 93, which is longer than the specified 20\n",
            "WARNING:langchain.text_splitter:Created a chunk of size 73, which is longer than the specified 20\n",
            "WARNING:langchain.text_splitter:Created a chunk of size 68, which is longer than the specified 20\n",
            "WARNING:langchain.text_splitter:Created a chunk of size 37, which is longer than the specified 20\n",
            "WARNING:langchain.text_splitter:Created a chunk of size 87, which is longer than the specified 20\n",
            "WARNING:langchain.text_splitter:Created a chunk of size 97, which is longer than the specified 20\n",
            "WARNING:langchain.text_splitter:Created a chunk of size 101, which is longer than the specified 20\n",
            "WARNING:langchain.text_splitter:Created a chunk of size 101, which is longer than the specified 20\n",
            "WARNING:langchain.text_splitter:Created a chunk of size 101, which is longer than the specified 20\n",
            "WARNING:langchain.text_splitter:Created a chunk of size 33, which is longer than the specified 20\n",
            "WARNING:langchain.text_splitter:Created a chunk of size 99, which is longer than the specified 20\n",
            "WARNING:langchain.text_splitter:Created a chunk of size 87, which is longer than the specified 20\n",
            "WARNING:langchain.text_splitter:Created a chunk of size 45, which is longer than the specified 20\n",
            "WARNING:langchain.text_splitter:Created a chunk of size 37, which is longer than the specified 20\n",
            "WARNING:langchain.text_splitter:Created a chunk of size 92, which is longer than the specified 20\n",
            "WARNING:langchain.text_splitter:Created a chunk of size 97, which is longer than the specified 20\n",
            "WARNING:langchain.text_splitter:Created a chunk of size 98, which is longer than the specified 20\n",
            "WARNING:langchain.text_splitter:Created a chunk of size 97, which is longer than the specified 20\n",
            "WARNING:langchain.text_splitter:Created a chunk of size 102, which is longer than the specified 20\n",
            "WARNING:langchain.text_splitter:Created a chunk of size 105, which is longer than the specified 20\n",
            "WARNING:langchain.text_splitter:Created a chunk of size 100, which is longer than the specified 20\n",
            "WARNING:langchain.text_splitter:Created a chunk of size 103, which is longer than the specified 20\n",
            "WARNING:langchain.text_splitter:Created a chunk of size 93, which is longer than the specified 20\n",
            "WARNING:langchain.text_splitter:Created a chunk of size 101, which is longer than the specified 20\n",
            "WARNING:langchain.text_splitter:Created a chunk of size 58, which is longer than the specified 20\n",
            "WARNING:langchain.text_splitter:Created a chunk of size 94, which is longer than the specified 20\n",
            "WARNING:langchain.text_splitter:Created a chunk of size 95, which is longer than the specified 20\n",
            "WARNING:langchain.text_splitter:Created a chunk of size 103, which is longer than the specified 20\n",
            "WARNING:langchain.text_splitter:Created a chunk of size 96, which is longer than the specified 20\n",
            "WARNING:langchain.text_splitter:Created a chunk of size 33, which is longer than the specified 20\n",
            "WARNING:langchain.text_splitter:Created a chunk of size 95, which is longer than the specified 20\n",
            "WARNING:langchain.text_splitter:Created a chunk of size 43, which is longer than the specified 20\n",
            "WARNING:langchain.text_splitter:Created a chunk of size 22, which is longer than the specified 20\n",
            "WARNING:langchain.text_splitter:Created a chunk of size 75, which is longer than the specified 20\n",
            "WARNING:langchain.text_splitter:Created a chunk of size 93, which is longer than the specified 20\n",
            "WARNING:langchain.text_splitter:Created a chunk of size 95, which is longer than the specified 20\n",
            "WARNING:langchain.text_splitter:Created a chunk of size 97, which is longer than the specified 20\n",
            "WARNING:langchain.text_splitter:Created a chunk of size 103, which is longer than the specified 20\n",
            "WARNING:langchain.text_splitter:Created a chunk of size 92, which is longer than the specified 20\n",
            "WARNING:langchain.text_splitter:Created a chunk of size 90, which is longer than the specified 20\n",
            "WARNING:langchain.text_splitter:Created a chunk of size 33, which is longer than the specified 20\n",
            "WARNING:langchain.text_splitter:Created a chunk of size 87, which is longer than the specified 20\n",
            "WARNING:langchain.text_splitter:Created a chunk of size 73, which is longer than the specified 20\n",
            "WARNING:langchain.text_splitter:Created a chunk of size 87, which is longer than the specified 20\n",
            "WARNING:langchain.text_splitter:Created a chunk of size 96, which is longer than the specified 20\n",
            "WARNING:langchain.text_splitter:Created a chunk of size 28, which is longer than the specified 20\n",
            "WARNING:langchain.text_splitter:Created a chunk of size 86, which is longer than the specified 20\n",
            "WARNING:langchain.text_splitter:Created a chunk of size 91, which is longer than the specified 20\n",
            "WARNING:langchain.text_splitter:Created a chunk of size 33, which is longer than the specified 20\n",
            "WARNING:langchain.text_splitter:Created a chunk of size 94, which is longer than the specified 20\n",
            "WARNING:langchain.text_splitter:Created a chunk of size 89, which is longer than the specified 20\n",
            "WARNING:langchain.text_splitter:Created a chunk of size 39, which is longer than the specified 20\n",
            "WARNING:langchain.text_splitter:Created a chunk of size 95, which is longer than the specified 20\n",
            "WARNING:langchain.text_splitter:Created a chunk of size 90, which is longer than the specified 20\n",
            "WARNING:langchain.text_splitter:Created a chunk of size 40, which is longer than the specified 20\n",
            "WARNING:langchain.text_splitter:Created a chunk of size 75, which is longer than the specified 20\n",
            "WARNING:langchain.text_splitter:Created a chunk of size 94, which is longer than the specified 20\n",
            "WARNING:langchain.text_splitter:Created a chunk of size 83, which is longer than the specified 20\n",
            "WARNING:langchain.text_splitter:Created a chunk of size 76, which is longer than the specified 20\n",
            "WARNING:langchain.text_splitter:Created a chunk of size 95, which is longer than the specified 20\n",
            "WARNING:langchain.text_splitter:Created a chunk of size 82, which is longer than the specified 20\n",
            "WARNING:langchain.text_splitter:Created a chunk of size 60, which is longer than the specified 20\n",
            "WARNING:langchain.text_splitter:Created a chunk of size 89, which is longer than the specified 20\n",
            "WARNING:langchain.text_splitter:Created a chunk of size 88, which is longer than the specified 20\n",
            "WARNING:langchain.text_splitter:Created a chunk of size 50, which is longer than the specified 20\n",
            "WARNING:langchain.text_splitter:Created a chunk of size 88, which is longer than the specified 20\n",
            "WARNING:langchain.text_splitter:Created a chunk of size 89, which is longer than the specified 20\n",
            "WARNING:langchain.text_splitter:Created a chunk of size 31, which is longer than the specified 20\n",
            "WARNING:langchain.text_splitter:Created a chunk of size 89, which is longer than the specified 20\n",
            "WARNING:langchain.text_splitter:Created a chunk of size 88, which is longer than the specified 20\n",
            "WARNING:langchain.text_splitter:Created a chunk of size 33, which is longer than the specified 20\n",
            "WARNING:langchain.text_splitter:Created a chunk of size 98, which is longer than the specified 20\n",
            "WARNING:langchain.text_splitter:Created a chunk of size 59, which is longer than the specified 20\n",
            "WARNING:langchain.text_splitter:Created a chunk of size 87, which is longer than the specified 20\n",
            "WARNING:langchain.text_splitter:Created a chunk of size 94, which is longer than the specified 20\n",
            "WARNING:langchain.text_splitter:Created a chunk of size 74, which is longer than the specified 20\n",
            "WARNING:langchain.text_splitter:Created a chunk of size 94, which is longer than the specified 20\n",
            "WARNING:langchain.text_splitter:Created a chunk of size 86, which is longer than the specified 20\n",
            "WARNING:langchain.text_splitter:Created a chunk of size 76, which is longer than the specified 20\n",
            "WARNING:langchain.text_splitter:Created a chunk of size 34, which is longer than the specified 20\n",
            "WARNING:langchain.text_splitter:Created a chunk of size 96, which is longer than the specified 20\n",
            "WARNING:langchain.text_splitter:Created a chunk of size 80, which is longer than the specified 20\n",
            "WARNING:langchain.text_splitter:Created a chunk of size 85, which is longer than the specified 20\n",
            "WARNING:langchain.text_splitter:Created a chunk of size 91, which is longer than the specified 20\n",
            "WARNING:langchain.text_splitter:Created a chunk of size 65, which is longer than the specified 20\n",
            "WARNING:langchain.text_splitter:Created a chunk of size 93, which is longer than the specified 20\n",
            "WARNING:langchain.text_splitter:Created a chunk of size 93, which is longer than the specified 20\n",
            "WARNING:langchain.text_splitter:Created a chunk of size 79, which is longer than the specified 20\n",
            "WARNING:langchain.text_splitter:Created a chunk of size 79, which is longer than the specified 20\n",
            "WARNING:langchain.text_splitter:Created a chunk of size 90, which is longer than the specified 20\n",
            "WARNING:langchain.text_splitter:Created a chunk of size 82, which is longer than the specified 20\n",
            "WARNING:langchain.text_splitter:Created a chunk of size 33, which is longer than the specified 20\n",
            "WARNING:langchain.text_splitter:Created a chunk of size 90, which is longer than the specified 20\n",
            "WARNING:langchain.text_splitter:Created a chunk of size 71, which is longer than the specified 20\n",
            "WARNING:langchain.text_splitter:Created a chunk of size 39, which is longer than the specified 20\n",
            "WARNING:langchain.text_splitter:Created a chunk of size 96, which is longer than the specified 20\n",
            "WARNING:langchain.text_splitter:Created a chunk of size 88, which is longer than the specified 20\n",
            "WARNING:langchain.text_splitter:Created a chunk of size 96, which is longer than the specified 20\n",
            "WARNING:langchain.text_splitter:Created a chunk of size 78, which is longer than the specified 20\n",
            "WARNING:langchain.text_splitter:Created a chunk of size 79, which is longer than the specified 20\n",
            "WARNING:langchain.text_splitter:Created a chunk of size 90, which is longer than the specified 20\n",
            "WARNING:langchain.text_splitter:Created a chunk of size 87, which is longer than the specified 20\n",
            "WARNING:langchain.text_splitter:Created a chunk of size 90, which is longer than the specified 20\n",
            "WARNING:langchain.text_splitter:Created a chunk of size 87, which is longer than the specified 20\n",
            "WARNING:langchain.text_splitter:Created a chunk of size 92, which is longer than the specified 20\n",
            "WARNING:langchain.text_splitter:Created a chunk of size 48, which is longer than the specified 20\n",
            "WARNING:langchain.text_splitter:Created a chunk of size 97, which is longer than the specified 20\n",
            "WARNING:langchain.text_splitter:Created a chunk of size 33, which is longer than the specified 20\n",
            "WARNING:langchain.text_splitter:Created a chunk of size 95, which is longer than the specified 20\n",
            "WARNING:langchain.text_splitter:Created a chunk of size 81, which is longer than the specified 20\n",
            "WARNING:langchain.text_splitter:Created a chunk of size 63, which is longer than the specified 20\n",
            "WARNING:langchain.text_splitter:Created a chunk of size 90, which is longer than the specified 20\n",
            "WARNING:langchain.text_splitter:Created a chunk of size 96, which is longer than the specified 20\n",
            "WARNING:langchain.text_splitter:Created a chunk of size 33, which is longer than the specified 20\n",
            "WARNING:langchain.text_splitter:Created a chunk of size 96, which is longer than the specified 20\n",
            "WARNING:langchain.text_splitter:Created a chunk of size 60, which is longer than the specified 20\n",
            "WARNING:langchain.text_splitter:Created a chunk of size 69, which is longer than the specified 20\n",
            "WARNING:langchain.text_splitter:Created a chunk of size 61, which is longer than the specified 20\n",
            "WARNING:langchain.text_splitter:Created a chunk of size 56, which is longer than the specified 20\n",
            "WARNING:langchain.text_splitter:Created a chunk of size 50, which is longer than the specified 20\n",
            "WARNING:langchain.text_splitter:Created a chunk of size 85, which is longer than the specified 20\n",
            "WARNING:langchain.text_splitter:Created a chunk of size 49, which is longer than the specified 20\n",
            "WARNING:langchain.text_splitter:Created a chunk of size 86, which is longer than the specified 20\n",
            "WARNING:langchain.text_splitter:Created a chunk of size 38, which is longer than the specified 20\n",
            "WARNING:langchain.text_splitter:Created a chunk of size 53, which is longer than the specified 20\n",
            "WARNING:langchain.text_splitter:Created a chunk of size 55, which is longer than the specified 20\n",
            "WARNING:langchain.text_splitter:Created a chunk of size 61, which is longer than the specified 20\n",
            "WARNING:langchain.text_splitter:Created a chunk of size 47, which is longer than the specified 20\n",
            "WARNING:langchain.text_splitter:Created a chunk of size 70, which is longer than the specified 20\n",
            "WARNING:langchain.text_splitter:Created a chunk of size 63, which is longer than the specified 20\n",
            "WARNING:langchain.text_splitter:Created a chunk of size 81, which is longer than the specified 20\n",
            "WARNING:langchain.text_splitter:Created a chunk of size 76, which is longer than the specified 20\n",
            "WARNING:langchain.text_splitter:Created a chunk of size 51, which is longer than the specified 20\n",
            "WARNING:langchain.text_splitter:Created a chunk of size 61, which is longer than the specified 20\n",
            "WARNING:langchain.text_splitter:Created a chunk of size 55, which is longer than the specified 20\n",
            "WARNING:langchain.text_splitter:Created a chunk of size 57, which is longer than the specified 20\n",
            "WARNING:langchain.text_splitter:Created a chunk of size 54, which is longer than the specified 20\n"
          ]
        }
      ]
    },
    {
      "cell_type": "code",
      "source": [
        "texts = ['text1', 'text2', 'text3']\n",
        "len(texts)"
      ],
      "metadata": {
        "colab": {
          "base_uri": "https://localhost:8080/"
        },
        "id": "GBVI0mEHvb8e",
        "outputId": "25c4816a-0cd3-4169-8c9f-8b3fa7bbcbe6"
      },
      "execution_count": 68,
      "outputs": [
        {
          "output_type": "execute_result",
          "data": {
            "text/plain": [
              "3"
            ]
          },
          "metadata": {},
          "execution_count": 68
        }
      ]
    },
    {
      "cell_type": "code",
      "source": [
        "len(pages)"
      ],
      "metadata": {
        "colab": {
          "base_uri": "https://localhost:8080/"
        },
        "id": "wC9QDMltl1kH",
        "outputId": "f9c689cd-7757-448e-c5c9-d0e2234b61c9"
      },
      "execution_count": 69,
      "outputs": [
        {
          "output_type": "execute_result",
          "data": {
            "text/plain": [
              "18"
            ]
          },
          "metadata": {},
          "execution_count": 69
        }
      ]
    },
    {
      "cell_type": "code",
      "source": [
        "if len(texts) >= 20:\n",
        "  texts[5]\n",
        "else:\n",
        "  print(\"The list is too short to access the 10th item.\")"
      ],
      "metadata": {
        "colab": {
          "base_uri": "https://localhost:8080/"
        },
        "id": "0edm6Uuhv5p8",
        "outputId": "7d704ce1-c46d-4db9-85da-429c79957b24"
      },
      "execution_count": 70,
      "outputs": [
        {
          "output_type": "stream",
          "name": "stdout",
          "text": [
            "The list is too short to access the 10th item.\n"
          ]
        }
      ]
    }
  ]
}