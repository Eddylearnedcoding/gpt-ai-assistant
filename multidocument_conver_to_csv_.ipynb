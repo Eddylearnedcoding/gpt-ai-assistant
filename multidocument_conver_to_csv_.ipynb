{
  "nbformat": 4,
  "nbformat_minor": 0,
  "metadata": {
    "colab": {
      "provenance": [],
      "authorship_tag": "ABX9TyPpWGQM9OcslTythHCvGxiI",
      "include_colab_link": true
    },
    "kernelspec": {
      "name": "python3",
      "display_name": "Python 3"
    },
    "language_info": {
      "name": "python"
    }
  },
  "cells": [
    {
      "cell_type": "markdown",
      "metadata": {
        "id": "view-in-github",
        "colab_type": "text"
      },
      "source": [
        "<a href=\"https://colab.research.google.com/github/Eddylearnedcoding/gpt-ai-assistant/blob/main/multidocument_conver_to_csv_.ipynb\" target=\"_parent\"><img src=\"https://colab.research.google.com/assets/colab-badge.svg\" alt=\"Open In Colab\"/></a>"
      ]
    },
    {
      "cell_type": "code",
      "execution_count": 1,
      "metadata": {
        "colab": {
          "base_uri": "https://localhost:8080/"
        },
        "id": "udWPNn0BpyyC",
        "outputId": "0ab0d63c-cb28-4dd4-f8cc-09709d388b98"
      },
      "outputs": [
        {
          "output_type": "stream",
          "name": "stdout",
          "text": [
            "工作表 '糖尿病' 已保存为 '糖尿病.csv'\n",
            "工作表 '慢性腎臟病' 已保存为 '慢性腎臟病.csv'\n",
            "工作表 '失智症' 已保存为 '失智症.csv'\n",
            "工作表 '專有名詞中英' 已保存为 '專有名詞中英.csv'\n",
            "工作表 '輕中重症(關鍵字)' 已保存为 '輕中重症(關鍵字).csv'\n",
            "工作表 '失智症疾病種類' 已保存为 '失智症疾病種類.csv'\n",
            "工作表 '問題類別(關鍵字)' 已保存为 '問題類別(關鍵字).csv'\n",
            "工作表 '輕度失智情境' 已保存为 '輕度失智情境.csv'\n",
            "工作表 '中度失智清境' 已保存为 '中度失智清境.csv'\n",
            "工作表 '重度失智情境' 已保存为 '重度失智情境.csv'\n"
          ]
        }
      ],
      "source": [
        "import pandas as pd\n",
        "\n",
        "# Excel文件路径\n",
        "excel_file = '/home/evaulation disease.xlsx'\n",
        "\n",
        "# 使用Pandas读取Excel文件\n",
        "xls = pd.ExcelFile(excel_file)\n",
        "\n",
        "# 遍历所有工作表\n",
        "for sheet_name in xls.sheet_names:\n",
        "    # 读取工作表内容\n",
        "    df = pd.read_excel(xls, sheet_name)\n",
        "\n",
        "    # 构建CSV文件名（例如：sheet_name.csv）\n",
        "    csv_file = f\"{sheet_name}.csv\"\n",
        "\n",
        "    # 将数据保存为CSV文件\n",
        "    df.to_csv(csv_file, index=False)\n",
        "\n",
        "    print(f\"工作表 '{sheet_name}' 已保存为 '{csv_file}'\")\n"
      ]
    }
  ]
}